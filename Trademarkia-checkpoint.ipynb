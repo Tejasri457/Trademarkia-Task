{
 "cells": [
  {
   "cell_type": "code",
   "execution_count": 1,
   "id": "13843763",
   "metadata": {},
   "outputs": [],
   "source": [
    "import pandas as pd\n",
    "\n",
    "dataset = pd.read_json('idmanual.json')"
   ]
  },
  {
   "cell_type": "code",
   "execution_count": 2,
   "id": "1a1fbc21",
   "metadata": {},
   "outputs": [],
   "source": [
    "import json\n",
    "\n",
    "# Load the JSON dataset\n",
    "with open('idmanual.json') as file:\n",
    "    data = json.load(file)"
   ]
  },
  {
   "cell_type": "code",
   "execution_count": 3,
   "id": "73a10ed3",
   "metadata": {},
   "outputs": [],
   "source": [
    "# Extract features and labels\n",
    "features = [item['description'] for item in data]\n",
    "labels = [item['status'] for item in data]\n"
   ]
  },
  {
   "cell_type": "code",
   "execution_count": 4,
   "id": "615dca22",
   "metadata": {},
   "outputs": [],
   "source": [
    "from sklearn.model_selection import train_test_split\n",
    "\n",
    "# Split the data into training and testing sets\n",
    "X_train, X_test, y_train, y_test = train_test_split(features, labels, test_size=0.2, random_state=42)\n"
   ]
  },
  {
   "cell_type": "code",
   "execution_count": null,
   "id": "de4b9692",
   "metadata": {},
   "outputs": [],
   "source": [
    "import json \n",
    "from sklearn.feature_extraction.text import CountVectorizer\n",
    "from sklearn.svm import SVC \n",
    "from sklearn.model_selection import train_test_split\n",
    "\n",
    "# Load the JSON dataset\n",
    "with open('idmanual.json') as file:\n",
    "    data = json.load(file)\n",
    "\n",
    "# Extract features and labels\n",
    "features = [item['description'] for item in data]\n",
    "labels = [item['status'] for item in data]\n",
    "\n",
    "# Split the data into training and testing sets\n",
    "X_train, X_test, y_train, y_test = train_test_split(features, labels, test_size=0.2, random_state=42)\n",
    "\n",
    "# Initialize the CountVectorizer\n",
    "vectorizer = CountVectorizer()\n",
    "\n",
    "# Fit and transform the training features\n",
    "X_train = vectorizer.fit_transform(X_train)\n",
    "\n",
    "# Transform the testing features\n",
    "X_test = vectorizer.transform(X_test)\n",
    "\n",
    "# Initialize the SVM model\n",
    "model = SVC()\n",
    "\n",
    "# Train the model\n",
    "model.fit(X_train, y_train)\n",
    "\n",
    "# Evaluate the model\n",
    "accuracy = model.score(X_test, y_test)\n",
    "print(\"Model accuracy:\", accuracy)\n",
    "\n",
    "# Example prediction on a new description\n",
    "new_description = \"Bank note acceptors for separating good bank notes from counterfeits\"\n",
    "new_description_vector = vectorizer.transform([new_description])\n",
    "prediction = model.predict(new_description_vector)\n",
    "print(\"Prediction:\", prediction)"
   ]
  },
  {
   "cell_type": "code",
   "execution_count": null,
   "id": "07941fe4",
   "metadata": {},
   "outputs": [],
   "source": [
    "# Import and initialize the AI model (e.g., example using scikit-learn's SVM classifier)\n",
    "from sklearn.svm import SVC\n",
    "\n",
    "model = SVC()\n",
    "\n",
    "# Train the model\n",
    "model.fit(X_train, y_train)"
   ]
  },
  {
   "cell_type": "code",
   "execution_count": null,
   "id": "a162b606",
   "metadata": {},
   "outputs": [],
   "source": [
    "# Evaluate the model\n",
    "accuracy = model.score(X_test, y_test)\n",
    "print(\"Model accuracy:\", accuracy)"
   ]
  },
  {
   "cell_type": "code",
   "execution_count": null,
   "id": "15584ead",
   "metadata": {},
   "outputs": [],
   "source": [
    "from sklearn.feature_extraction.text import TfidfVectorizer\n",
    "from sklearn.svm import SVC\n",
    "\n",
    "# Preprocess the description\n",
    "new_description = \"Bank note acceptors for separating good bank notes from counterfeits\"\n",
    "preprocessed_description = preprocess(new_description)  # Implement your own preprocessing function\n",
    "\n",
    "# Vectorize the preprocessed description\n",
    "vectorizer = TfidfVectorizer()  # You can customize the vectorizer based on your needs\n",
    "X = vectorizer.fit_transform([preprocessed_description])\n",
    "\n",
    "# Load the trained model\n",
    "model = SVC()  # Replace with your specific model\n",
    "\n",
    "# Make a prediction\n",
    "prediction = model.predict(X)\n",
    "print(\"Prediction:\", prediction)"
   ]
  },
  {
   "cell_type": "code",
   "execution_count": null,
   "id": "4c0d13fe",
   "metadata": {},
   "outputs": [],
   "source": []
  }
 ],
 "metadata": {
  "kernelspec": {
   "display_name": "Python 3 (ipykernel)",
   "language": "python",
   "name": "python3"
  },
  "language_info": {
   "codemirror_mode": {
    "name": "ipython",
    "version": 3
   },
   "file_extension": ".py",
   "mimetype": "text/x-python",
   "name": "python",
   "nbconvert_exporter": "python",
   "pygments_lexer": "ipython3",
   "version": "3.9.12"
  }
 },
 "nbformat": 4,
 "nbformat_minor": 5
}
